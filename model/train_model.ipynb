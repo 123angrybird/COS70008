{
 "cells": [
  {
   "cell_type": "code",
   "execution_count": 2,
   "metadata": {},
   "outputs": [],
   "source": [
    "from joblib import dump, load\n",
    "import matplotlib.pyplot as plt\n",
    "import pandas as pd\n",
    "import numpy as np\n",
    "from sklearn.model_selection import train_test_split, StratifiedKFold, GridSearchCV\n",
    "from sklearn.metrics import accuracy_score, precision_score, recall_score, f1_score, ConfusionMatrixDisplay, confusion_matrix\n",
    "from sklearn import svm\n",
    "from sklearn.preprocessing import StandardScaler\n",
    "from sklearn.naive_bayes import GaussianNB"
   ]
  },
  {
   "cell_type": "code",
   "execution_count": 3,
   "metadata": {},
   "outputs": [
    {
     "name": "stdout",
     "output_type": "stream",
     "text": [
      "(8766, 8) (8766, 1)\n",
      "flood\n",
      "0        8619\n",
      "1         147\n",
      "Name: count, dtype: int64\n",
      "      year  month  day  cloud  humidity  pressure  rainfall  temperature\n",
      "0     2000      1    1      6        69    1017.1      0.00         19.2\n",
      "1     2000      1    2      2        64    1017.2      0.00         20.4\n",
      "2     2000      1    3     10        67    1016.8      0.00         19.2\n",
      "3     2000      1    4     60        74    1016.1      0.00         18.9\n",
      "4     2000      1    5     40        75    1013.9      0.00         20.6\n",
      "...    ...    ...  ...    ...       ...       ...       ...          ...\n",
      "8761  2023     12   27     88        62    1024.0      0.05         18.7\n",
      "8762  2023     12   28     74        73    1022.3      0.05         20.1\n",
      "8763  2023     12   29     72        79    1021.1      0.00         19.4\n",
      "8764  2023     12   30     79        70    1018.3      0.05         20.7\n",
      "8765  2023     12   31     59        73    1018.0      0.00         21.8\n",
      "\n",
      "[8766 rows x 8 columns] \n",
      "       flood\n",
      "0         0\n",
      "1         0\n",
      "2         0\n",
      "3         0\n",
      "4         0\n",
      "...     ...\n",
      "8761      0\n",
      "8762      0\n",
      "8763      0\n",
      "8764      0\n",
      "8765      0\n",
      "\n",
      "[8766 rows x 1 columns]\n"
     ]
    }
   ],
   "source": [
    "# read and analyze the data\n",
    "\n",
    "x = pd.read_csv(\"weather.csv\")\n",
    "y = pd.read_csv(\"weather_label.csv\")\n",
    "\n",
    "print(x.shape, y.shape)\n",
    "print(y.value_counts())\n",
    "print(x,\"\\n\",y)"
   ]
  },
  {
   "cell_type": "code",
   "execution_count": null,
   "metadata": {},
   "outputs": [
    {
     "name": "stdout",
     "output_type": "stream",
     "text": [
      "          year     month       day     cloud  humidity  pressure  rainfall  \\\n",
      "0    -1.661165 -1.601451 -1.673805 -2.639367 -0.881876  0.674691 -0.306794   \n",
      "1    -1.661165 -1.601451 -1.560170 -2.808881 -1.371510  0.690259 -0.306794   \n",
      "2    -1.661165 -1.601451 -1.446535 -2.469854 -1.077730  0.627989 -0.306794   \n",
      "3    -1.661165 -1.601451 -1.332899 -0.350934 -0.392243  0.519016 -0.306794   \n",
      "4    -1.661165 -1.601451 -1.219264 -1.198502 -0.294316  0.176531 -0.306794   \n",
      "...        ...       ...       ...       ...       ...       ...       ...   \n",
      "8761  1.661461  1.588154  1.280710  0.835661 -1.567363  1.748849 -0.304471   \n",
      "8762  1.661461  1.588154  1.394345  0.242363 -0.490170  1.484202 -0.304471   \n",
      "8763  1.661461  1.588154  1.507980  0.157606  0.097390  1.297392 -0.306794   \n",
      "8764  1.661461  1.588154  1.621615  0.454255 -0.783950  0.861501 -0.304471   \n",
      "8765  1.661461  1.588154  1.735250 -0.393313 -0.490170  0.814799 -0.306794   \n",
      "\n",
      "      temperature  \n",
      "0       -0.888004  \n",
      "1       -0.652451  \n",
      "2       -0.888004  \n",
      "3       -0.946892  \n",
      "4       -0.613192  \n",
      "...           ...  \n",
      "8761    -0.986151  \n",
      "8762    -0.711339  \n",
      "8763    -0.848745  \n",
      "8764    -0.593562  \n",
      "8765    -0.377639  \n",
      "\n",
      "[8766 rows x 8 columns]\n"
     ]
    }
   ],
   "source": [
    "scale = StandardScaler().set_output(transform=\"pandas\")\n",
    "x_after_scaling = scale.fit_transform(X=x)\n",
    "print(x_after_scaling)"
   ]
  },
  {
   "cell_type": "code",
   "execution_count": null,
   "metadata": {},
   "outputs": [
    {
     "name": "stdout",
     "output_type": "stream",
     "text": [
      "{'var_smoothing': 1.0}\n",
      "0.8838990113221291\n"
     ]
    }
   ],
   "source": [
    "# split into train and test data set\n",
    "x_train, x_test, y_train, y_test = train_test_split(\n",
    "    x_after_scaling, y, test_size=0.30, random_state=42\n",
    ")\n",
    "\n",
    "# define StratifiedKFold\n",
    "strKFold = StratifiedKFold(n_splits=5)\n",
    "\n",
    "# define metric use for evaluating \n",
    "scores = [\"accuracy\",\"precision\", \"recall\", \"f1\"]\n",
    "\n",
    "# Define the parameter grid for finetuning the model\n",
    "param_grid_nb = {\n",
    "    'var_smoothing': np.logspace(0, -9, num=100)\n",
    "}\n",
    "\n",
    "nb_classifier = GaussianNB()\n",
    "\n",
    "grid_search_nb = GridSearchCV(\n",
    "    estimator = nb_classifier, \n",
    "    param_grid = param_grid_nb, \n",
    "    cv = strKFold,\n",
    "    scoring = scores,\n",
    "    refit = \"f1\",\n",
    "    n_jobs=-1) \n",
    "\n",
    "grid_search_nb.fit(x_train, y_train.values.reshape(-1,))\n",
    "\n",
    "print(grid_search_nb.best_params_)\n",
    "print(grid_search_nb.best_score_)"
   ]
  },
  {
   "cell_type": "code",
   "execution_count": null,
   "metadata": {},
   "outputs": [
    {
     "name": "stdout",
     "output_type": "stream",
     "text": [
      "Accuracy: 0.9946768060836502\n",
      "Precision: 0.7777777777777778\n",
      "Recall: 1.0\n",
      "F1: 0.875\n"
     ]
    },
    {
     "data": {
      "image/png": "[encoded data removed]",
      "text/plain": [
       "<Figure size 640x480 with 2 Axes>"
      ]
     },
     "metadata": {},
     "output_type": "display_data"
    }
   ],
   "source": [
    "# Evaluate the model on the test dataset\n",
    "\n",
    "pred = grid_search_nb.predict(x_test)\n",
    "\n",
    "ConfusionMatrixDisplay.from_predictions(y_test, pred)\n",
    "print(f\"Accuracy: {accuracy_score(y_test, pred)}\")\n",
    "print(f\"Precision: {precision_score(y_test, pred)}\")\n",
    "print(f\"Recall: {recall_score(y_test, pred)}\")\n",
    "print(f\"F1: {f1_score(y_test, pred)}\")\n"
   ]
  },
  {
   "cell_type": "code",
   "execution_count": null,
   "metadata": {},
   "outputs": [
    {
     "name": "stdout",
     "output_type": "stream",
     "text": [
      "there will be flood in this day\n"
     ]
    }
   ],
   "source": [
    "# Save the model\n",
    "dump(grid_search_nb.best_estimator_,\"weather_classifier.joblib\")\n",
    "dump(scale,\"weather_standard_scaler.joblib\")\n",
    "\n",
    "# Load the model and scalar\n",
    "clf = load(\"weather_classifier.joblib\") \n",
    "sca = load(\"weather_standard_scaler.joblib\")\n",
    "\n",
    "input = sca.transform(x.iloc[[8650]])\n",
    "pre = clf.predict(input)\n",
    "\n",
    "if (pre == 0):\n",
    "    print(\"There is no flood in this day\")\n",
    "else:\n",
    "    print(\"there will be flood in this day\")"
   ]
  }
 ],
 "metadata": {
  "kernelspec": {
   "display_name": "Python 3",
   "language": "python",
   "name": "python3"
  },
  "language_info": {
   "codemirror_mode": {
    "name": "ipython",
    "version": 3
   },
   "file_extension": ".py",
   "mimetype": "text/x-python",
   "name": "python",
   "nbconvert_exporter": "python",
   "pygments_lexer": "ipython3",
   "version": "3.11.9"
  }
 },
 "nbformat": 4,
 "nbformat_minor": 2
}
