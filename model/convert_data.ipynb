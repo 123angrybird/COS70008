{
 "cells": [
  {
   "cell_type": "code",
   "execution_count": 23,
   "metadata": {},
   "outputs": [],
   "source": [
    "import pandas as pd"
   ]
  },
  {
   "cell_type": "code",
   "execution_count": 24,
   "metadata": {},
   "outputs": [],
   "source": [
    "cloud = pd.read_csv(\"cloud.csv\")            #unit: %\n",
    "humi = pd.read_csv(\"humi.csv\")              #unit: %\n",
    "press = pd.read_csv(\"press.csv\")            #unit: hPa\n",
    "rainfall = pd.read_csv(\"rainfall.csv\")      #unit: mm\n",
    "temp = pd.read_csv(\"temp.csv\")              #unit: C degree"
   ]
  },
  {
   "cell_type": "code",
   "execution_count": 25,
   "metadata": {},
   "outputs": [],
   "source": [
    "# get the data from 2000 to 2024 \n",
    "\n",
    "cloud = cloud[cloud['Year']>=2000]\n",
    "cloud = cloud[cloud['Year']<2024]\n",
    "cloud.reset_index(drop=True, inplace=True)\n",
    "\n",
    "humi = humi[humi['Year']>=2000]\n",
    "humi = humi[humi['Year']<2024]\n",
    "humi.reset_index(drop=True, inplace=True)\n",
    "\n",
    "press = press[press['Year']>=2000]\n",
    "press = press[press['Year']<2024]\n",
    "press.reset_index(drop=True, inplace=True)\n",
    "\n",
    "rainfall = rainfall[rainfall['Year']>=2000]\n",
    "rainfall = rainfall[rainfall['Year']<2024]\n",
    "rainfall.reset_index(drop=True, inplace=True)\n",
    "\n",
    "temp = temp[temp['Year']>=2000]\n",
    "temp = temp[temp['Year']<2024]\n",
    "temp.reset_index(drop=True, inplace=True)\n"
   ]
  },
  {
   "cell_type": "code",
   "execution_count": 26,
   "metadata": {},
   "outputs": [
    {
     "name": "stdout",
     "output_type": "stream",
     "text": [
      "(8766, 5) (8766, 5) (8766, 5) (8766, 5) (8766, 5)\n"
     ]
    }
   ],
   "source": [
    "print(cloud.shape, humi.shape, press.shape, rainfall.shape, temp.shape)"
   ]
  },
  {
   "cell_type": "code",
   "execution_count": 27,
   "metadata": {},
   "outputs": [],
   "source": [
    "data = {\n",
    "    'year': cloud['Year'].to_list(),\n",
    "    'month': cloud['Month'].to_list(),\n",
    "    'day': cloud['Day'].to_list(),\n",
    "    'cloud': cloud['Value'].to_list(),\n",
    "    'humidity': humi['Value'].to_list(),\n",
    "    'pressure': press['Value'].to_list(),\n",
    "    'rainfall': rainfall['Value'].to_list(),\n",
    "    'temperature': temp['Value'].to_list()\n",
    "}\n",
    "\n",
    "label = {\"flood\":[]}"
   ]
  },
  {
   "cell_type": "code",
   "execution_count": 28,
   "metadata": {},
   "outputs": [],
   "source": [
    "# decode the data to usable numbers\n",
    "\n",
    "for key,value in enumerate(data['rainfall']):\n",
    "    if value == \"Trace\":\n",
    "        data['rainfall'][key] = 0.05\n",
    "    \n",
    "    if float(data['rainfall'][key]) >= 80.0:\n",
    "        label[\"flood\"].append(\"1\")\n",
    "    else:\n",
    "        label[\"flood\"].append(\"0\")"
   ]
  },
  {
   "cell_type": "code",
   "execution_count": 29,
   "metadata": {},
   "outputs": [],
   "source": [
    "weather = pd.DataFrame(data=data)\n",
    "weather.to_csv(\"weather.csv\", index=False)"
   ]
  },
  {
   "cell_type": "code",
   "execution_count": 30,
   "metadata": {},
   "outputs": [],
   "source": [
    "label = pd.DataFrame(data=label)\n",
    "label.to_csv(\"weather_label.csv\", index=False)"
   ]
  }
 ],
 "metadata": {
  "kernelspec": {
   "display_name": "Python 3",
   "language": "python",
   "name": "python3"
  },
  "language_info": {
   "codemirror_mode": {
    "name": "ipython",
    "version": 3
   },
   "file_extension": ".py",
   "mimetype": "text/x-python",
   "name": "python",
   "nbconvert_exporter": "python",
   "pygments_lexer": "ipython3",
   "version": "3.11.9"
  }
 },
 "nbformat": 4,
 "nbformat_minor": 2
}
